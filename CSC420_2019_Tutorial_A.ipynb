{
  "nbformat": 4,
  "nbformat_minor": 0,
  "metadata": {
    "colab": {
      "name": "CSC420_2019_Tutorial_A.ipynb",
      "version": "0.3.2",
      "provenance": [],
      "collapsed_sections": []
    },
    "kernelspec": {
      "name": "python3",
      "display_name": "Python 3"
    },
    "accelerator": "TPU"
  },
  "cells": [
    {
      "cell_type": "code",
      "metadata": {
        "id": "Ed8IEDQs23KP",
        "colab_type": "code",
        "colab": {}
      },
      "source": [
        "# Load the Drive helper and mount\n",
        "from google.colab import drive\n",
        "\n",
        "# This will prompt for authorization.\n",
        "drive.mount('/content/drive')"
      ],
      "execution_count": 0,
      "outputs": []
    },
    {
      "cell_type": "code",
      "metadata": {
        "id": "JIVhh03-P1N5",
        "colab_type": "code",
        "colab": {}
      },
      "source": [
        "# After executing the cell above, Drive\n",
        "# files will be present in \"/content/drive/My Drive\".\n",
        "!ls \"/content/drive/My Drive/Colab Notebooks\""
      ],
      "execution_count": 0,
      "outputs": []
    },
    {
      "cell_type": "code",
      "metadata": {
        "id": "Q1exTeIU3TyW",
        "colab_type": "code",
        "colab": {}
      },
      "source": [
        "# install OpenCV\n",
        "!pip install opencv-python\n",
        "\n",
        "# the usual ...\n",
        "%matplotlib inline\n",
        "import matplotlib.pyplot as plt\n",
        "import cv2\n",
        "import numpy as np"
      ],
      "execution_count": 0,
      "outputs": []
    },
    {
      "cell_type": "code",
      "metadata": {
        "id": "1zdSDeAp3XbJ",
        "colab_type": "code",
        "colab": {}
      },
      "source": [
        "# read an image (make sure CavePainting.jpg is in the main folder in your Google Drive)\n",
        "img = cv2.imread('/content/drive/My Drive/CavePainting.jpg') # READS IN NUMPY ARRAY"
      ],
      "execution_count": 0,
      "outputs": []
    },
    {
      "cell_type": "code",
      "metadata": {
        "id": "KKXImd3x3dxI",
        "colab_type": "code",
        "colab": {}
      },
      "source": [
        "whos"
      ],
      "execution_count": 0,
      "outputs": []
    },
    {
      "cell_type": "code",
      "metadata": {
        "id": "dVAPUGW53fKg",
        "colab_type": "code",
        "colab": {}
      },
      "source": [
        "# not in colab\n",
        "# cv2.imshow('image',img)\n",
        "# cv2.waitKey(0)\n",
        "# cv2.destroyAllWindows()"
      ],
      "execution_count": 0,
      "outputs": []
    },
    {
      "cell_type": "code",
      "metadata": {
        "id": "Me4Ovfld300i",
        "colab_type": "code",
        "colab": {}
      },
      "source": [
        "# display the image\n",
        "h,w = img.shape[:2]\n",
        "print(img.shape)\n",
        "plt.imshow(img,cmap='gray')\n",
        "plt.show()\n",
        "# what happened?"
      ],
      "execution_count": 0,
      "outputs": []
    },
    {
      "cell_type": "code",
      "metadata": {
        "id": "kd4x1CrM4WGK",
        "colab_type": "code",
        "colab": {}
      },
      "source": [
        "# BGR <--> RGB\n",
        "img2 = cv2.cvtColor(img, cv2.COLOR_BGR2RGB)\n",
        "plt.imshow(img2)"
      ],
      "execution_count": 0,
      "outputs": []
    },
    {
      "cell_type": "code",
      "metadata": {
        "id": "cCS5PDEaWjYB",
        "colab_type": "code",
        "colab": {}
      },
      "source": [
        "gray = cv2.cvtColor(img, cv2.COLOR_BGR2GRAY)\n",
        "plt.imshow(gray,cmap='gray')"
      ],
      "execution_count": 0,
      "outputs": []
    },
    {
      "cell_type": "code",
      "metadata": {
        "id": "ET60wA6ZZcQj",
        "colab_type": "code",
        "colab": {}
      },
      "source": [
        "hist = cv2.calcHist([gray],[0],None,[256],[0,256])\n",
        "plt.plot(hist)"
      ],
      "execution_count": 0,
      "outputs": []
    },
    {
      "cell_type": "code",
      "metadata": {
        "id": "SS0CxoYvZHd1",
        "colab_type": "code",
        "colab": {}
      },
      "source": [
        "whos"
      ],
      "execution_count": 0,
      "outputs": []
    },
    {
      "cell_type": "code",
      "metadata": {
        "id": "qUNKOTOa4xbu",
        "colab_type": "code",
        "colab": {}
      },
      "source": [
        "# let's make a function\n",
        "def imshowBGR2RGB( im ):\n",
        "  img = cv2.cvtColor(im, cv2.COLOR_BGR2RGB)\n",
        "  plt.imshow(img)\n",
        "  plt.axis('off')\n",
        "  return"
      ],
      "execution_count": 0,
      "outputs": []
    },
    {
      "cell_type": "code",
      "metadata": {
        "id": "CrRtRkCQlqzF",
        "colab_type": "code",
        "colab": {}
      },
      "source": [
        "imshowBGR2RGB(img)"
      ],
      "execution_count": 0,
      "outputs": []
    },
    {
      "cell_type": "code",
      "metadata": {
        "id": "ouYnuGMUmUdF",
        "colab_type": "code",
        "colab": {}
      },
      "source": [
        "# scaling \n",
        "rows, cols = img.shape[:2]\n",
        "res = cv2.resize(img, (2*cols, 2*rows), interpolation = cv2.INTER_CUBIC)\n",
        "imshowBGR2RGB(res)"
      ],
      "execution_count": 0,
      "outputs": []
    },
    {
      "cell_type": "code",
      "metadata": {
        "id": "B6fXT5d0Jn4d",
        "colab_type": "code",
        "colab": {}
      },
      "source": [
        "whos"
      ],
      "execution_count": 0,
      "outputs": []
    },
    {
      "cell_type": "code",
      "metadata": {
        "id": "h9YeYWwbmm9U",
        "colab_type": "code",
        "colab": {}
      },
      "source": [
        "# scaling \n",
        "res = cv2.resize(img,(400, 150), interpolation = cv2.INTER_CUBIC)\n",
        "imshowBGR2RGB(res)"
      ],
      "execution_count": 0,
      "outputs": []
    },
    {
      "cell_type": "code",
      "metadata": {
        "id": "UZKtwTnTnIDk",
        "colab_type": "code",
        "colab": {}
      },
      "source": [
        "# rotate (centre, angle, scale)\n",
        "M = cv2.getRotationMatrix2D((100, 120), -15, .7)\n",
        "dst = cv2.warpAffine(img, M, (cols,rows))\n",
        "imshowBGR2RGB(dst)"
      ],
      "execution_count": 0,
      "outputs": []
    },
    {
      "cell_type": "code",
      "metadata": {
        "id": "Fx7nShEpoDTV",
        "colab_type": "code",
        "colab": {}
      },
      "source": [
        "# affine transformation\n",
        "pts1 = np.float32([[5,5],[5,50],[50,5]])\n",
        "pts2 = np.float32([[10,3],[20,30],[40,6]])\n",
        "\n",
        "M = cv2.getAffineTransform(pts1,pts2)\n",
        "\n",
        "dst = cv2.warpAffine(img,M,(cols,rows))\n",
        "\n",
        "imshowBGR2RGB(dst)"
      ],
      "execution_count": 0,
      "outputs": []
    },
    {
      "cell_type": "code",
      "metadata": {
        "id": "kSXsttwF7a_B",
        "colab_type": "code",
        "colab": {}
      },
      "source": [
        "# perspective transformation\n",
        "\n",
        "# getPerspectiveTransform\n",
        "\n",
        "# how many point matches do we need?"
      ],
      "execution_count": 0,
      "outputs": []
    },
    {
      "cell_type": "code",
      "metadata": {
        "id": "Jd7zQR-x8Dz-",
        "colab_type": "code",
        "colab": {}
      },
      "source": [
        "# averaging\n",
        "\n",
        "kernel = np.ones((7,7),np.float32)/49\n",
        "dst = cv2.filter2D(img,-1,kernel)\n",
        "\n",
        "imshowBGR2RGB(dst)"
      ],
      "execution_count": 0,
      "outputs": []
    },
    {
      "cell_type": "code",
      "metadata": {
        "id": "V47bCuBU8Ye9",
        "colab_type": "code",
        "colab": {}
      },
      "source": [
        "# compare with the original\n",
        "imshowBGR2RGB(img)"
      ],
      "execution_count": 0,
      "outputs": []
    },
    {
      "cell_type": "code",
      "metadata": {
        "id": "9AahIlAO8ucm",
        "colab_type": "code",
        "colab": {}
      },
      "source": [
        "# larger window\n",
        "kernel = np.ones((15,15),np.float32)/225\n",
        "dst = cv2.filter2D(img,-1,kernel)\n",
        "\n",
        "imshowBGR2RGB(dst)"
      ],
      "execution_count": 0,
      "outputs": []
    },
    {
      "cell_type": "code",
      "metadata": {
        "id": "3WDnrq7lWBNS",
        "colab_type": "code",
        "colab": {}
      },
      "source": [
        "# Gaussian blur\n",
        "kernel = cv2.getGaussianKernel(15, 9)\n",
        "\n",
        "dst = cv2.filter2D(img,-1,kernel)\n",
        "\n",
        "imshowBGR2RGB(dst)\n",
        "\n",
        "# alternative: GaussianBlur(img,(15,15),20) "
      ],
      "execution_count": 0,
      "outputs": []
    },
    {
      "cell_type": "code",
      "metadata": {
        "id": "miF-qIqC8yXG",
        "colab_type": "code",
        "colab": {}
      },
      "source": [
        "median = cv2.medianBlur(img, 7)\n",
        "imshowBGR2RGB(median)"
      ],
      "execution_count": 0,
      "outputs": []
    },
    {
      "cell_type": "code",
      "metadata": {
        "id": "GUs4_mLG9fEg",
        "colab_type": "code",
        "colab": {}
      },
      "source": [
        "blur = cv2.bilateralFilter(img,30,75,75)\n",
        "imshowBGR2RGB(blur)"
      ],
      "execution_count": 0,
      "outputs": []
    },
    {
      "cell_type": "code",
      "metadata": {
        "colab_type": "code",
        "id": "WjH9TECdRAnx",
        "colab": {}
      },
      "source": [
        "# image gradients\n",
        "img = cv2.imread('/content/drive/My Drive/window.jpg') # READS IN NUMPY ARRAY\n",
        "gray = cv2.cvtColor(img, cv2.COLOR_BGR2GRAY)\n",
        "laplacian = cv2.Laplacian(gray, cv2.CV_64F)\n",
        "#imshowBGR2RGB(laplacian)\n",
        "\n",
        "\n",
        "plt.subplot(2,1,1),plt.imshow(gray,cmap = 'gray')\n",
        "plt.title('Original'), plt.xticks([]), plt.yticks([])\n",
        "plt.subplot(2,1,2),plt.imshow(laplacian,cmap = 'gray')\n",
        "plt.title('Laplacian'), plt.xticks([]), plt.yticks([])"
      ],
      "execution_count": 0,
      "outputs": []
    },
    {
      "cell_type": "code",
      "metadata": {
        "id": "3DiC0D6hL_wr",
        "colab_type": "code",
        "colab": {}
      },
      "source": [
        "#median = cv2.medianBlur(gray, 5)\n",
        "blur = cv2.GaussianBlur(gray,(5,5),1)\n",
        "plt.imshow(blur, cmap = 'gray')\n",
        "plt.xticks([]), plt.yticks([])\n"
      ],
      "execution_count": 0,
      "outputs": []
    },
    {
      "cell_type": "code",
      "metadata": {
        "id": "b8NzOLJJLLhq",
        "colab_type": "code",
        "colab": {}
      },
      "source": [
        "# smooth first\n",
        "\n",
        "laplacian = cv2.Laplacian(blur, cv2.CV_64F)\n",
        "\n",
        "plt.subplot(2,1,1),plt.imshow(gray,cmap = 'gray')\n",
        "plt.title('Original'), plt.xticks([]), plt.yticks([])\n",
        "plt.subplot(2,1,2),plt.imshow(laplacian,cmap = 'gray')\n",
        "plt.title('Laplacian'), plt.xticks([]), plt.yticks([])"
      ],
      "execution_count": 0,
      "outputs": []
    },
    {
      "cell_type": "code",
      "metadata": {
        "id": "h2vBnPfhJ5Hr",
        "colab_type": "code",
        "colab": {}
      },
      "source": [
        "sobelx = cv2.Sobel(blur, cv2.CV_64F, 1, 0, ksize=5)\n",
        "sobely = cv2.Sobel(blur, cv2.CV_64F, 0, 1, ksize=5)\n",
        "\n",
        "plt.subplot(2,1,1),plt.imshow(sobelx,cmap = 'gray')\n",
        "plt.title('Sobel X'), plt.xticks([]), plt.yticks([])\n",
        "plt.subplot(2,1,2),plt.imshow(sobely,cmap = 'gray')\n",
        "plt.title('Sobel Y'), plt.xticks([]), plt.yticks([])\n"
      ],
      "execution_count": 0,
      "outputs": []
    },
    {
      "cell_type": "code",
      "metadata": {
        "id": "UxldPCO-SADg",
        "colab_type": "code",
        "colab": {}
      },
      "source": [
        "sobel_xy = abs(sobelx) + abs(sobely);\n",
        "plt.imshow(sobel_xy,cmap='gray')"
      ],
      "execution_count": 0,
      "outputs": []
    },
    {
      "cell_type": "code",
      "metadata": {
        "id": "b2ehFqYdSlfF",
        "colab_type": "code",
        "colab": {}
      },
      "source": [
        "hist,bins = np.histogram(sobel_xy,256,[0,256])\n",
        "plt.plot(hist)"
      ],
      "execution_count": 0,
      "outputs": []
    },
    {
      "cell_type": "code",
      "metadata": {
        "id": "Xqx_vf49TuN6",
        "colab_type": "code",
        "colab": {}
      },
      "source": [
        "th = sobel_xy < 20\n",
        "plt.imshow(th, cmap='gray')"
      ],
      "execution_count": 0,
      "outputs": []
    },
    {
      "cell_type": "code",
      "metadata": {
        "id": "GxunpjiYKhmC",
        "colab_type": "code",
        "colab": {}
      },
      "source": [
        "# edges (Canny)\n",
        "edges = cv2.Canny(gray, 75, 100)\n",
        "\n",
        "plt.subplot(1, 2, 1),plt.imshow(gray, cmap = 'gray')\n",
        "plt.title('Original Image'), plt.xticks([]), plt.yticks([])\n",
        "plt.subplot(1,2, 2),plt.imshow(edges,cmap = 'gray')\n",
        "plt.title('Edge Image'), plt.xticks([]), plt.yticks([])"
      ],
      "execution_count": 0,
      "outputs": []
    },
    {
      "cell_type": "code",
      "metadata": {
        "id": "0R3D_-ogVtm2",
        "colab_type": "code",
        "colab": {}
      },
      "source": [
        "lowres = cv2.pyrDown(img)\n",
        "lowres = cv2.pyrDown(lowres)\n",
        "lowres = cv2.pyrDown(lowres)\n",
        "imshowBGR2RGB(lowres)"
      ],
      "execution_count": 0,
      "outputs": []
    },
    {
      "cell_type": "code",
      "metadata": {
        "id": "PzomUxEqYsBG",
        "colab_type": "code",
        "colab": {}
      },
      "source": [
        "highres = cv2.pyrUp(lowres)\n",
        "highres = cv2.pyrUp(highres)\n",
        "highres = cv2.pyrUp(highres)\n",
        "imshowBGR2RGB(highres)"
      ],
      "execution_count": 0,
      "outputs": []
    },
    {
      "cell_type": "markdown",
      "metadata": {
        "id": "el7VElGcA55W",
        "colab_type": "text"
      },
      "source": [
        "**more:** [OpenCV-Python Tutorials](https://docs.opencv.org/3.0-beta/doc/py_tutorials/py_tutorials.html)\n"
      ]
    },
    {
      "cell_type": "markdown",
      "metadata": {
        "id": "L12DYF89NluR",
        "colab_type": "text"
      },
      "source": [
        ""
      ]
    }
  ]
}